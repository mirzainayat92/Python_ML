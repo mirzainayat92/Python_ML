{
 "cells": [
  {
   "cell_type": "code",
   "execution_count": 11,
   "metadata": {},
   "outputs": [],
   "source": [
    "'''\n",
    "    author : mirza_inayat\n",
    "    title  : Covid-19 Death Predictor using Straight line fitting and quadratic line fitting\n",
    "'''\n",
    "import numpy as np\n",
    "import pandas as pd\n",
    "import matplotlib.pyplot as plt\n",
    "from sklearn.linear_model import LinearRegression\n",
    "import datetime as dt"
   ]
  },
  {
   "cell_type": "code",
   "execution_count": 18,
   "metadata": {},
   "outputs": [
    {
     "data": {
      "text/html": [
       "<div>\n",
       "<style scoped>\n",
       "    .dataframe tbody tr th:only-of-type {\n",
       "        vertical-align: middle;\n",
       "    }\n",
       "\n",
       "    .dataframe tbody tr th {\n",
       "        vertical-align: top;\n",
       "    }\n",
       "\n",
       "    .dataframe thead th {\n",
       "        text-align: right;\n",
       "    }\n",
       "</style>\n",
       "<table border=\"1\" class=\"dataframe\">\n",
       "  <thead>\n",
       "    <tr style=\"text-align: right;\">\n",
       "      <th></th>\n",
       "      <th>Date</th>\n",
       "      <th>Deaths</th>\n",
       "    </tr>\n",
       "  </thead>\n",
       "  <tbody>\n",
       "    <tr>\n",
       "      <th>0</th>\n",
       "      <td>01-05-2020</td>\n",
       "      <td>73</td>\n",
       "    </tr>\n",
       "    <tr>\n",
       "      <th>1</th>\n",
       "      <td>02-05-2020</td>\n",
       "      <td>71</td>\n",
       "    </tr>\n",
       "    <tr>\n",
       "      <th>2</th>\n",
       "      <td>03-05-2020</td>\n",
       "      <td>83</td>\n",
       "    </tr>\n",
       "    <tr>\n",
       "      <th>3</th>\n",
       "      <td>04-05-2020</td>\n",
       "      <td>72</td>\n",
       "    </tr>\n",
       "    <tr>\n",
       "      <th>4</th>\n",
       "      <td>05-05-2020</td>\n",
       "      <td>195</td>\n",
       "    </tr>\n",
       "    <tr>\n",
       "      <th>5</th>\n",
       "      <td>06-05-2020</td>\n",
       "      <td>126</td>\n",
       "    </tr>\n",
       "    <tr>\n",
       "      <th>6</th>\n",
       "      <td>07-05-2020</td>\n",
       "      <td>89</td>\n",
       "    </tr>\n",
       "    <tr>\n",
       "      <th>7</th>\n",
       "      <td>08-05-2020</td>\n",
       "      <td>103</td>\n",
       "    </tr>\n",
       "    <tr>\n",
       "      <th>8</th>\n",
       "      <td>09-05-2020</td>\n",
       "      <td>95</td>\n",
       "    </tr>\n",
       "    <tr>\n",
       "      <th>9</th>\n",
       "      <td>10-05-2020</td>\n",
       "      <td>128</td>\n",
       "    </tr>\n",
       "    <tr>\n",
       "      <th>10</th>\n",
       "      <td>11-05-2020</td>\n",
       "      <td>97</td>\n",
       "    </tr>\n",
       "    <tr>\n",
       "      <th>11</th>\n",
       "      <td>12-05-2020</td>\n",
       "      <td>87</td>\n",
       "    </tr>\n",
       "    <tr>\n",
       "      <th>12</th>\n",
       "      <td>13-05-2020</td>\n",
       "      <td>122</td>\n",
       "    </tr>\n",
       "    <tr>\n",
       "      <th>13</th>\n",
       "      <td>14-05-2020</td>\n",
       "      <td>134</td>\n",
       "    </tr>\n",
       "    <tr>\n",
       "      <th>14</th>\n",
       "      <td>15-05-2020</td>\n",
       "      <td>100</td>\n",
       "    </tr>\n",
       "    <tr>\n",
       "      <th>15</th>\n",
       "      <td>16-05-2020</td>\n",
       "      <td>103</td>\n",
       "    </tr>\n",
       "    <tr>\n",
       "      <th>16</th>\n",
       "      <td>17-05-2020</td>\n",
       "      <td>120</td>\n",
       "    </tr>\n",
       "    <tr>\n",
       "      <th>17</th>\n",
       "      <td>18-05-2020</td>\n",
       "      <td>157</td>\n",
       "    </tr>\n",
       "    <tr>\n",
       "      <th>18</th>\n",
       "      <td>19-05-2020</td>\n",
       "      <td>134</td>\n",
       "    </tr>\n",
       "    <tr>\n",
       "      <th>19</th>\n",
       "      <td>20-05-2020</td>\n",
       "      <td>140</td>\n",
       "    </tr>\n",
       "    <tr>\n",
       "      <th>20</th>\n",
       "      <td>21-05-2020</td>\n",
       "      <td>132</td>\n",
       "    </tr>\n",
       "    <tr>\n",
       "      <th>21</th>\n",
       "      <td>22-05-2020</td>\n",
       "      <td>148</td>\n",
       "    </tr>\n",
       "    <tr>\n",
       "      <th>22</th>\n",
       "      <td>23-05-2020</td>\n",
       "      <td>137</td>\n",
       "    </tr>\n",
       "    <tr>\n",
       "      <th>23</th>\n",
       "      <td>24-05-2020</td>\n",
       "      <td>147</td>\n",
       "    </tr>\n",
       "    <tr>\n",
       "      <th>24</th>\n",
       "      <td>25-05-2020</td>\n",
       "      <td>154</td>\n",
       "    </tr>\n",
       "    <tr>\n",
       "      <th>25</th>\n",
       "      <td>26-05-2020</td>\n",
       "      <td>146</td>\n",
       "    </tr>\n",
       "    <tr>\n",
       "      <th>26</th>\n",
       "      <td>27-05-2020</td>\n",
       "      <td>170</td>\n",
       "    </tr>\n",
       "    <tr>\n",
       "      <th>27</th>\n",
       "      <td>28-05-2020</td>\n",
       "      <td>194</td>\n",
       "    </tr>\n",
       "    <tr>\n",
       "      <th>28</th>\n",
       "      <td>29-05-2020</td>\n",
       "      <td>175</td>\n",
       "    </tr>\n",
       "    <tr>\n",
       "      <th>29</th>\n",
       "      <td>30-05-2020</td>\n",
       "      <td>265</td>\n",
       "    </tr>\n",
       "    <tr>\n",
       "      <th>30</th>\n",
       "      <td>31-05-2020</td>\n",
       "      <td>193</td>\n",
       "    </tr>\n",
       "  </tbody>\n",
       "</table>\n",
       "</div>"
      ],
      "text/plain": [
       "          Date  Deaths\n",
       "0   01-05-2020      73\n",
       "1   02-05-2020      71\n",
       "2   03-05-2020      83\n",
       "3   04-05-2020      72\n",
       "4   05-05-2020     195\n",
       "5   06-05-2020     126\n",
       "6   07-05-2020      89\n",
       "7   08-05-2020     103\n",
       "8   09-05-2020      95\n",
       "9   10-05-2020     128\n",
       "10  11-05-2020      97\n",
       "11  12-05-2020      87\n",
       "12  13-05-2020     122\n",
       "13  14-05-2020     134\n",
       "14  15-05-2020     100\n",
       "15  16-05-2020     103\n",
       "16  17-05-2020     120\n",
       "17  18-05-2020     157\n",
       "18  19-05-2020     134\n",
       "19  20-05-2020     140\n",
       "20  21-05-2020     132\n",
       "21  22-05-2020     148\n",
       "22  23-05-2020     137\n",
       "23  24-05-2020     147\n",
       "24  25-05-2020     154\n",
       "25  26-05-2020     146\n",
       "26  27-05-2020     170\n",
       "27  28-05-2020     194\n",
       "28  29-05-2020     175\n",
       "29  30-05-2020     265\n",
       "30  31-05-2020     193"
      ]
     },
     "execution_count": 18,
     "metadata": {},
     "output_type": "execute_result"
    }
   ],
   "source": [
    "data = pd.read_csv('india_covid19_may2020.csv',sep = r'\\s*,\\s*', header=0, encoding='ascii', engine='python')\n",
    "data"
   ]
  },
  {
   "cell_type": "code",
   "execution_count": 25,
   "metadata": {},
   "outputs": [
    {
     "data": {
      "image/png": "[encoded data removed]",
      "text/plain": [
       "<Figure size 432x288 with 1 Axes>"
      ]
     },
     "metadata": {
      "needs_background": "light"
     },
     "output_type": "display_data"
    }
   ],
   "source": [
    "data['Deaths'].plot(marker='o', ls='');"
   ]
  },
  {
   "cell_type": "code",
   "execution_count": 46,
   "metadata": {},
   "outputs": [
    {
     "name": "stdout",
     "output_type": "stream",
     "text": [
      "28.305592074074195\n",
      "0.5648048258901621\n"
     ]
    },
    {
     "data": {
      "image/png": "[encoded data removed]",
      "text/plain": [
       "<Figure size 432x288 with 1 Axes>"
      ]
     },
     "metadata": {
      "needs_background": "light"
     },
     "output_type": "display_data"
    },
    {
     "name": "stdout",
     "output_type": "stream",
     "text": [
      "Prediction for 20 April :  [41.80443548]\n",
      "Prediction for 10 June :  [222.06653226]\n"
     ]
    }
   ],
   "source": [
    "#X = data[['Date']]\n",
    "X = (data.index -  data.index[0]).values.reshape(-1, 1)\n",
    "#Y = np.asarray(data['Deaths']).reshape(-1, 1)\n",
    "Y = data['Deaths'].values\n",
    "model1 = LinearRegression()  \n",
    "model1.fit(X, Y)  # perform linear regression\n",
    "Y_pred = model1.predict(X)  # make predictions\n",
    "\n",
    "rmse = np.sqrt(mean_squared_error(Y,Y_pred))\n",
    "r2 = r2_score(Y,Y_pred)\n",
    "print(rmse)\n",
    "print(r2)\n",
    "\n",
    "plt.scatter(X, Y, s=10)\n",
    "plt.plot(X, Y_pred, color='r')\n",
    "plt.show()\n",
    "\n",
    "#Predicting for 20 April and 10 June\n",
    "x1 = -10  # 1May - 10 = 0 - 10 = -10\n",
    "x2 =  40  # 31May + 10 = 30 + 10 = 40\n",
    "test_X1 = np.array(x1).reshape(-1, 1)\n",
    "test_X2 = np.array(x2).reshape(-1, 1)\n",
    "\n",
    "y1_pred = model1.predict(test_X1)\n",
    "y2_pred = model1.predict(test_X2)\n",
    "print 'Prediction for 20 April : ', y1_pred\n",
    "print \"Prediction for 10 June : \", y2_pred"
   ]
  },
  {
   "cell_type": "code",
   "execution_count": 49,
   "metadata": {},
   "outputs": [
    {
     "name": "stdout",
     "output_type": "stream",
     "text": [
      "26.53745523146897\n",
      "0.6174764894711743\n"
     ]
    },
    {
     "data": {
      "image/png": "[encoded data removed]",
      "text/plain": [
       "<Figure size 432x288 with 1 Axes>"
      ]
     },
     "metadata": {
      "needs_background": "light"
     },
     "output_type": "display_data"
    },
    {
     "name": "stdout",
     "output_type": "stream",
     "text": [
      "Prediction for 20 April :  [116.92518202]\n",
      "Prediction for 10 June :  [297.18727879]\n"
     ]
    }
   ],
   "source": [
    "import operator\n",
    "from sklearn.metrics import mean_squared_error, r2_score\n",
    "from sklearn.preprocessing import PolynomialFeatures\n",
    "\n",
    "polynomial_features= PolynomialFeatures(degree=2)\n",
    "x_quad = polynomial_features.fit_transform(X)\n",
    "\n",
    "model2 = LinearRegression()\n",
    "model2.fit(x_quad, Y)\n",
    "y_quad_pred = model2.predict(x_quad)\n",
    "\n",
    "rmse = np.sqrt(mean_squared_error(Y,y_quad_pred))\n",
    "r2 = r2_score(Y,y_quad_pred)\n",
    "print(rmse)\n",
    "print(r2)\n",
    "\n",
    "plt.scatter(X, Y, s=10)\n",
    "# sort the values of x before line plot\n",
    "sort_axis = operator.itemgetter(0)\n",
    "sorted_zip = sorted(zip(X,y_quad_pred), key=sort_axis)\n",
    "X, y_quad_pred = zip(*sorted_zip)\n",
    "plt.plot(X, y_quad_pred, color='m')\n",
    "plt.show()\n",
    "\n",
    "#Again Same\n",
    "#Predicting for 20 April and 10 June\n",
    "x1 = np.array(x1).reshape(-1, 1)\n",
    "x2 = np.array(x2).reshape(-1, 1)\n",
    "\n",
    "tst_X1 = polynomial_features.fit_transform(x1)\n",
    "tst_X2 = polynomial_features.fit_transform(x2)\n",
    "\n",
    "y1_qpred = model2.predict(tst_X1)\n",
    "y2_qpred = model2.predict(tst_X2)\n",
    "print \"Prediction for 20 April : \", y1_qpred\n",
    "print \"Prediction for 10 June : \", y2_qpred"
   ]
  },
  {
   "cell_type": "code",
   "execution_count": null,
   "metadata": {},
   "outputs": [],
   "source": []
  }
 ],
 "metadata": {
  "kernelspec": {
   "display_name": "Python 3",
   "language": "python",
   "name": "python3"
  },
  "language_info": {
   "codemirror_mode": {
    "name": "ipython",
    "version": 2
   },
   "file_extension": ".py",
   "mimetype": "text/x-python",
   "name": "python",
   "nbconvert_exporter": "python",
   "pygments_lexer": "ipython2",
   "version": "2.7.17"
  }
 },
 "nbformat": 4,
 "nbformat_minor": 2
}
